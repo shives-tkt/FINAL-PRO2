{
  "nbformat": 4,
  "nbformat_minor": 0,
  "metadata": {
    "colab": {
      "provenance": [],
      "authorship_tag": "ABX9TyOADNzNikAAJhOsYsa0OqRw",
      "include_colab_link": true
    },
    "kernelspec": {
      "name": "python3",
      "display_name": "Python 3"
    },
    "language_info": {
      "name": "python"
    }
  },
  "cells": [
    {
      "cell_type": "markdown",
      "metadata": {
        "id": "view-in-github",
        "colab_type": "text"
      },
      "source": [
        "<a href=\"https://colab.research.google.com/github/shives-tkt/FINAL-PRO2/blob/main/PRo_2_py.ipynb\" target=\"_parent\"><img src=\"https://colab.research.google.com/assets/colab-badge.svg\" alt=\"Open In Colab\"/></a>"
      ]
    },
    {
      "cell_type": "code",
      "execution_count": null,
      "metadata": {
        "id": "R0usA1P03nzc"
      },
      "outputs": [],
      "source": [
        "# Import necessary libraries\n",
        "import pandas as pd\n",
        "import numpy as np\n",
        "import matplotlib.pyplot as plt\n",
        "import seaborn as sns\n",
        "from sklearn.preprocessing import StandardScaler, LabelEncoder\n",
        "from sklearn.cluster import KMeans\n",
        "from sklearn.model_selection import train_test_split\n",
        "from sklearn.ensemble import RandomForestRegressor\n",
        "from sklearn.metrics import mean_squared_error, r2_score, silhouette_score\n",
        "\n",
        "# Step 1: Load the dataset\n",
        "data_url = 'https://drive.google.com/uc?id=1VLrUOjudactyRQD8KLlLrds7DwXXa7H1'\n",
        "data = pd.read_csv(data_url)\n",
        "\n",
        "# Step 2: Explore the data\n",
        "print(data.head())\n",
        "print(data.info())\n",
        "print(data.describe())\n",
        "\n",
        "# Step 3: Handle missing values\n",
        "data.fillna(data.median(), inplace=True)\n",
        "\n",
        "# Step 4: Encode categorical variables\n",
        "label_encoders = {}\n",
        "for col in data.select_dtypes(include=['object']).columns:\n",
        "    le = LabelEncoder()\n",
        "    data[col] = le.fit_transform(data[col])\n",
        "    label_encoders[col] = le\n",
        "\n",
        "# Step 5: Normalize numerical features\n",
        "scaler = StandardScaler()\n",
        "numerical_cols = data.select_dtypes(include=['float64', 'int64']).columns\n",
        "scaled_data = scaler.fit_transform(data[numerical_cols])\n",
        "data[numerical_cols] = scaled_data\n",
        "\n",
        "# Step 6: Perform clustering\n",
        "kmeans = KMeans(n_clusters=5, random_state=42)\n",
        "data['Cluster'] = kmeans.fit_predict(data[numerical_cols])\n",
        "\n",
        "# Validate clusters\n",
        "print(\"Silhouette Score:\", silhouette_score(data[numerical_cols], data['Cluster']))\n",
        "\n",
        "# Visualize clusters\n",
        "sns.pairplot(data, hue='Cluster')\n",
        "plt.show()\n",
        "\n",
        "# Step 7: Train regression models\n",
        "X = data.drop(columns=['Yield', 'Cluster'])  # Replace 'Yield' with the target column name if different\n",
        "y = data['Yield']\n",
        "\n",
        "X_train, X_test, y_train, y_test = train_test_split(X, y, test_size=0.2, random_state=42)\n",
        "\n",
        "model = RandomForestRegressor(random_state=42)\n",
        "model.fit(X_train, y_train)\n",
        "\n",
        "y_pred = model.predict(X_test)\n",
        "\n",
        "# Evaluate the model\n",
        "mse = mean_squared_error(y_test, y_pred)\n",
        "r2 = r2_score(y_test, y_pred)\n",
        "\n",
        "print(\"Mean Squared Error:\", mse)\n",
        "print(\"R-squared:\", r2)\n",
        "\n",
        "# Step 8: Visualize results\n",
        "# Example: Plot actual vs predicted\n",
        "plt.figure(figsize=(10, 6))\n",
        "plt.scatter(y_test, y_pred, alpha=0.7)\n",
        "plt.xlabel(\"Actual Yield\")\n",
        "plt.ylabel(\"Predicted Yield\")\n",
        "plt.title(\"Actual vs Predicted Yield\")\n",
        "plt.show()\n",
        "\n",
        "# Step 9: Save the model and create documentation\n",
        "import joblib\n",
        "joblib.dump(model, 'crop_rotation_model.pkl')"
      ]
    }
  ]
}